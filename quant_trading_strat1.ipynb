{
 "cells": [
  {
   "cell_type": "markdown",
   "metadata": {},
   "source": [
    "## Robust Trading W/ DTW, SVM, and KNN \n",
    "###### https://fenix.tecnico.ulisboa.pt/downloadFile/281870113705822/89549-tiago-barroso-resumo.pdf\n",
    "\n",
    "### Goal of this system: \n",
    "- Differentitaion of market types\n",
    "- Price forecasting of a stock \n",
    "- Adaptation of the investing strategy according to each market and price forecast. \n",
    "- ** NOTE results from the linked study use data from a two year range. (Test if this is reliable over longer time frame)"
   ]
  },
  {
   "cell_type": "markdown",
   "metadata": {},
   "source": [
    "### Classification of Market Condition\n",
    "- SVM: This classification algorithm classifies market into Bull, Bear, or Sideways\n"
   ]
  },
  {
   "cell_type": "markdown",
   "metadata": {},
   "source": [
    "### Determining Which Sequences will produce certain market conditions: \n",
    "(Time series must be mutually exclusive)\n",
    "- Best Bullish: Varitation Increase 10% followed by an increase of 5% in a subsequent prediction time period\n",
    "- Bullish: Variation of at least 5% during a certain time frame followed by 3% in subsequent prediction period. \n",
    "- Sideways: Var between -5% and 5% followed by -3% and 3%\n",
    "- Bearish: Variation less than -5% followed by a decrease of any percentage in subsequent prediction period. "
   ]
  },
  {
   "cell_type": "markdown",
   "metadata": {},
   "source": [
    "### Training and Testing Sequences: \n",
    "- System goes through training set classifying sequences that meet the criteria above. \n",
    "- This data is then used to train a classifier, which will be used to classify the test set's time series. \n",
    "- Choose a classifier: KNN, SVM, ... \n",
    "- Classify the found sequences from the training data, to train the classifier. \n",
    "\n",
    "### Use of KNN w/ DTW\n",
    "- Essentially uses DTW as the distance measure to find the nearest N neighbors\n",
    "- ** Use of K as a dynamic parameter for this method/strategy\n",
    "- Weight of neighbors: Uniform weight, or distnace based weight (inverse distance = weight) ** could be a parameter\n",
    "- The study this is based on shows that the inverse weights don't add value"
   ]
  },
  {
   "cell_type": "markdown",
   "metadata": {},
   "source": [
    "### Investment and Evaluation: \n",
    "2 Different Methods: \n",
    "1. Invest with only long positions, in bull markets, cash in sideways and bear\n",
    "2. Invest with puts in time series of stocks identified as bear sequences and ignore sideways and bull. \n",
    "- We don't ever invest in sideways markets, they move horizontally by definition. \n",
    "#### Size of Sequences: \n",
    "- Range from 10 to 150. S seems to have better returns in longer sequences according to the study"
   ]
  },
  {
   "cell_type": "markdown",
   "metadata": {},
   "source": [
    "___"
   ]
  },
  {
   "cell_type": "markdown",
   "metadata": {},
   "source": [
    "### My System Design: \n",
    "- Data: From 2000 to 2023\n",
    "- Train/Test splits: Train = 2000 - 2016, Test = 2017 - 2023 (6 year testing period)\n",
    "- Parameters: Sequence Range, Inverse Distance (T or F), K neighbors (int)\n",
    "- Index Funds: SPY and QQQ\n"
   ]
  },
  {
   "cell_type": "code",
   "execution_count": 120,
   "metadata": {},
   "outputs": [],
   "source": [
    "import pandas as pd \n",
    "import yfinance as yf \n",
    "import numpy as np\n",
    "import numba\n",
    "import numpy.typing as npt\n",
    "from scipy import stats"
   ]
  },
  {
   "cell_type": "code",
   "execution_count": 2,
   "metadata": {},
   "outputs": [],
   "source": [
    "@numba.njit #wrap in just in time compiler\n",
    "def DTW(\n",
    "        ts_a: npt.NDArray[np.float64], #time series A (known result)\n",
    "        ts_b: npt.NDArray[np.float64], #time series B(what we are trying to learn)\n",
    ") -> float:\n",
    "    a_len = len(ts_a)\n",
    "    b_len = len(ts_b)\n",
    "\n",
    "    #Init pointwise distance matrix using np arrays\n",
    "    pointwise_distance = np.zeros((a_len, b_len), dtype = np.float64)\n",
    "    for x in range(0, a_len):\n",
    "        for y in range(0, b_len):\n",
    "            pointwise_distance[x, y] = abs(ts_a[x] - ts_b[y])\n",
    "\n",
    "    cumu_dist = np.full((a_len + 1, b_len + 1), np.inf)\n",
    "    cumu_dist[0, 0] = 0 \n",
    "\n",
    "    for ax in range(1, a_len + 1):\n",
    "        for by in range(1, b_len + 1):\n",
    "            cost = pointwise_distance[ax - 1, by - 1]\n",
    "            cumu_dist[ax, by] = cost + min(\n",
    "                cumu_dist[ax - 1, by],     # Insertion\n",
    "                cumu_dist[ax, by - 1],     # Deletion\n",
    "                cumu_dist[ax - 1, by - 1]  # Match\n",
    "            )\n",
    "    dtw_distance = cumu_dist[a_len, b_len]\n",
    "    return dtw_distance"
   ]
  },
  {
   "cell_type": "markdown",
   "metadata": {},
   "source": [
    "Pre-Training Method"
   ]
  },
  {
   "cell_type": "code",
   "execution_count": 298,
   "metadata": {},
   "outputs": [],
   "source": [
    "def train(data, train_split, seq_amount): #bull represented by 2, sideways is 1, bear is 0\n",
    "    n_rows = data.shape[0]\n",
    "    idx_price = 0\n",
    "    idx_long = -2\n",
    "    train_rows = int(n_rows * train_split)\n",
    "    train_rows_remainder = train_rows % seq_amount\n",
    "    class_rors = np.full(train_rows, 0.00, np.float64) #storing the RORs for comparison\n",
    "    cur_variation = 0 \n",
    "    counter = 0\n",
    "    class_array = []\n",
    "    for i_day in range(1, train_rows): \n",
    "        if cur_variation == 0: \n",
    "            cur_variation = data[i_day - 1, idx_price]\n",
    "            counter += 1\n",
    "        elif counter == seq_amount - 1:\n",
    "            cur_variation = data[i_day - 1, idx_price] - 1 / cur_variation - 1 #total movement during the period\n",
    "            sub_variation = data[i_day + seq_amount, idx_price] / data[i_day, idx_price] - 1 #total movement in the next period\n",
    "            if cur_variation >= .1 and sub_variation >= .05: #Bullish Classification\n",
    "                class_rors[i_day - counter : i_day] = data[i_day - counter: i_day, idx_long]\n",
    "                class_array.append(2)\n",
    "            elif (cur_variation < .05 and cur_variation > -.05) and (sub_variation < 0.02 and sub_variation > -0.02):\n",
    "                class_rors[i_day - counter : i_day] = data[i_day - counter: i_day, idx_long]\n",
    "                class_array.append(1)\n",
    "            else:\n",
    "                class_rors[i_day - counter : i_day] = data[i_day - counter: i_day, idx_long]\n",
    "                class_array.append(0)\n",
    "            counter = 0 \n",
    "        else: \n",
    "            counter += 1\n",
    "    class_rors = class_rors[:-train_rows_remainder].reshape((train_rows - train_rows_remainder) // seq_amount, seq_amount)\n",
    "    class_array = np.array(class_array)\n",
    "    return (class_rors, class_array)\n",
    "        "
   ]
  },
  {
   "cell_type": "code",
   "execution_count": 68,
   "metadata": {},
   "outputs": [],
   "source": [
    "data = pd.read_excel('/root/trading/data/data_spy.xlsx', sheet_name = 'DATA')\n",
    "data_np = data.iloc[1:, 1:].to_numpy()"
   ]
  },
  {
   "cell_type": "code",
   "execution_count": 295,
   "metadata": {},
   "outputs": [],
   "source": [
    "#Pre-classify data in excel\n",
    "def engine(data: npt.NDArray[np.float64],\n",
    "            seq_amount: int,\n",
    "            neighbors: int)-> npt.NDArray[np.int8]:\n",
    "    \"\"\"Strategy 1: Invest only with longs in time series of stocks\n",
    "        identified as bull sequences and ignore sideways and bear\n",
    "        sequences;\n",
    "\n",
    "        Conditions for training: \n",
    "        (1) Best Bullish: Any stock series which has a variation of at\n",
    "            least 10% during a certain time frame, followed by an increase\n",
    "            of 5% in a subsequent prediction time period\n",
    "        (3) Sideways: Any stock series which has a variation of between\n",
    "            -5% and +5% during a certain time frame, followed by an\n",
    "            variation between -3% and -3% in a subsequent prediction\n",
    "            time period.\n",
    "        (4) Bearish: Any stock series which has a variation inferior to\n",
    "            -5% during a certain time frame, followed by a decrease of\n",
    "            any percentage in a subsequent prediction time period.\n",
    "\n",
    "    Args:\n",
    "        data (_type_): data excluding the dates (type float64)\n",
    "        seq_amount (_type_): Amount of time series sequences gathered from the training data\n",
    "        neighbors (_type_): Number of neighbors for KNN \n",
    "\n",
    "    Returns:\n",
    "        npt.NDArray[np.int8]: Returns an array of weights. 1 representing long days, 0 representing cash days. \n",
    "    \"\"\"\n",
    "    idx_price = 0\n",
    "    n_rows = data.shape[0]\n",
    "    weight = np.full(n_rows, -100, dtype = np.int8)\n",
    "    training = train(data, seq_amount= seq_amount, train_split=0.4) #use 80: 20 train:test split\n",
    "    testing_rows = training[0].shape[0] * training[0].shape[1]\n",
    "    min_value_array = np.full((neighbors,2), np.inf, dtype= np.float64)\n",
    "    counter_ror = 0\n",
    "    classification = 0\n",
    "    for i_day in range(testing_rows, n_rows):\n",
    "        if counter_ror >= seq_amount:\n",
    "            for x in range(len(training[0])):\n",
    "                dtw_distance = DTW(training[0][x], \n",
    "                                   data[i_day - seq_amount: i_day, idx_price]) #compute the distances between training data and test set\n",
    "                if dtw_distance < np.max(min_value_array[:,0]):\n",
    "                    max_index = np.argmax(min_value_array[:,0])\n",
    "                    min_value_array[max_index,0] = dtw_distance\n",
    "                    min_value_array[max_index, 1] = training[1][x] #classification\n",
    "            classification = int(stats.mode(min_value_array[:,1])[0])\n",
    "            counter_ror = 0 #reset counter\n",
    "            min_value_array = np.full((neighbors,2), np.inf, dtype= np.float64)\n",
    "        if classification == 2:\n",
    "            weight[i_day] = 1\n",
    "        else:\n",
    "            weight[i_day] = 0\n",
    "        counter_ror += 1\n",
    "    \n",
    "    return weight[testing_rows:]\n",
    "\n",
    "\n",
    "\n",
    "\n",
    "\n",
    "    "
   ]
  },
  {
   "cell_type": "code",
   "execution_count": 296,
   "metadata": {},
   "outputs": [],
   "source": [
    "weight = engine(data_np, 150, 3)\n"
   ]
  },
  {
   "cell_type": "code",
   "execution_count": 297,
   "metadata": {},
   "outputs": [],
   "source": [
    "weight_df = pd.DataFrame(weight)\n",
    "weight_df.to_clipboard()"
   ]
  },
  {
   "cell_type": "code",
   "execution_count": null,
   "metadata": {},
   "outputs": [],
   "source": []
  }
 ],
 "metadata": {
  "kernelspec": {
   "display_name": "tsvenv",
   "language": "python",
   "name": "python3"
  },
  "language_info": {
   "codemirror_mode": {
    "name": "ipython",
    "version": 3
   },
   "file_extension": ".py",
   "mimetype": "text/x-python",
   "name": "python",
   "nbconvert_exporter": "python",
   "pygments_lexer": "ipython3",
   "version": "3.10.12"
  }
 },
 "nbformat": 4,
 "nbformat_minor": 2
}
